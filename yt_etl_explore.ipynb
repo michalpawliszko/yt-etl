{
 "cells": [
  {
   "cell_type": "code",
   "execution_count": 1,
   "metadata": {},
   "outputs": [],
   "source": [
    "from googleapiclient.discovery import build\n",
    "from googleapiclient.errors import HttpError\n",
    "from datetime import datetime\n",
    "import pandas as pd\n",
    "import os"
   ]
  },
  {
   "cell_type": "code",
   "execution_count": 2,
   "metadata": {},
   "outputs": [],
   "source": [
    "API_KEY = 'YT_API_KEY'\n",
    "channel_name = 'lekkostronniczy'\n",
    "#extraction filed Channels info\n",
    "CHANNELS_INFO_SNIPPED = ['title',  'publishedAt', 'country', 'description']\n",
    "CHANNELS_INFO_STATS = ['viewCount', 'subscriberCount', 'videoCount']\n",
    "\n",
    "\n",
    "#date format\n",
    "SOURCE_DATE_FORMAT = '%Y-%m-%dT%H:%M:%SZ'\n",
    "TARGET_DATE_FORMAT = '%Y-%m-%d'"
   ]
  },
  {
   "attachments": {},
   "cell_type": "markdown",
   "metadata": {},
   "source": [
    "Build Service"
   ]
  },
  {
   "cell_type": "code",
   "execution_count": 3,
   "metadata": {},
   "outputs": [],
   "source": [
    "youtube = build('youtube', 'v3', developerKey=os.environ['YT_API_KEY'])"
   ]
  },
  {
   "attachments": {},
   "cell_type": "markdown",
   "metadata": {},
   "source": [
    "Get channel Id"
   ]
  },
  {
   "cell_type": "code",
   "execution_count": 4,
   "metadata": {},
   "outputs": [],
   "source": [
    "request = youtube.search().list(\n",
    "    part='id',\n",
    "    type='channel',\n",
    "    q=channel_name\n",
    ")"
   ]
  },
  {
   "cell_type": "code",
   "execution_count": 5,
   "metadata": {},
   "outputs": [],
   "source": [
    "try:\n",
    "    response = request.execute()\n",
    "except HttpError as e:\n",
    "    print('Error response status code : {0}, reason : {1}'.format(e.status_code, e.error_details))"
   ]
  },
  {
   "cell_type": "code",
   "execution_count": 6,
   "metadata": {},
   "outputs": [],
   "source": [
    "channelId = response['items'][0]['id']['channelId']"
   ]
  },
  {
   "attachments": {},
   "cell_type": "markdown",
   "metadata": {},
   "source": [
    "Get channel information"
   ]
  },
  {
   "cell_type": "code",
   "execution_count": 7,
   "metadata": {},
   "outputs": [],
   "source": [
    "request = youtube.channels().list(\n",
    "    part=\"snippet,statistics\",\n",
    "    id=channelId\n",
    ")\n",
    "\n",
    "try:\n",
    "    response = request.execute()\n",
    "except HttpError as e:\n",
    "    print('Error response status code : {0}, reason : {1}'.format(e.status_code, e.error_details))"
   ]
  },
  {
   "cell_type": "code",
   "execution_count": 8,
   "metadata": {},
   "outputs": [
    {
     "data": {
      "text/html": [
       "<div>\n",
       "<style scoped>\n",
       "    .dataframe tbody tr th:only-of-type {\n",
       "        vertical-align: middle;\n",
       "    }\n",
       "\n",
       "    .dataframe tbody tr th {\n",
       "        vertical-align: top;\n",
       "    }\n",
       "\n",
       "    .dataframe thead th {\n",
       "        text-align: right;\n",
       "    }\n",
       "</style>\n",
       "<table border=\"1\" class=\"dataframe\">\n",
       "  <thead>\n",
       "    <tr style=\"text-align: right;\">\n",
       "      <th></th>\n",
       "      <th>channelId</th>\n",
       "      <th>title</th>\n",
       "      <th>publishedAt</th>\n",
       "      <th>country</th>\n",
       "      <th>description</th>\n",
       "    </tr>\n",
       "  </thead>\n",
       "  <tbody>\n",
       "    <tr>\n",
       "      <th>0</th>\n",
       "      <td>UC8JbbaZ_jgdsoUqrZ2bXtQQ</td>\n",
       "      <td>Lekko Stronniczy</td>\n",
       "      <td>2011-02-24</td>\n",
       "      <td>PL</td>\n",
       "      <td>Lekko Stronniczy to codzienny program rozrywko...</td>\n",
       "    </tr>\n",
       "  </tbody>\n",
       "</table>\n",
       "</div>"
      ],
      "text/plain": [
       "                  channelId             title publishedAt country  \\\n",
       "0  UC8JbbaZ_jgdsoUqrZ2bXtQQ  Lekko Stronniczy  2011-02-24      PL   \n",
       "\n",
       "                                         description  \n",
       "0  Lekko Stronniczy to codzienny program rozrywko...  "
      ]
     },
     "execution_count": 8,
     "metadata": {},
     "output_type": "execute_result"
    }
   ],
   "source": [
    "#E extract data for channels info table\n",
    "df_columns = ['channelId'] + CHANNELS_INFO_SNIPPED\n",
    "# df = pd.DataFrame(columns=df_columns)\n",
    "\n",
    "channel_info = {}\n",
    "for field in CHANNELS_INFO_SNIPPED:\n",
    "    channel_info[field] = response['items'][0]['snippet'][field]\n",
    "channel_info\n",
    "\n",
    "channel_info['publishedAt']\n",
    "\n",
    "#date conversion\n",
    "date_obj = datetime.strptime(channel_info['publishedAt'], SOURCE_DATE_FORMAT)\n",
    "channel_info['publishedAt'] = date_obj.strftime(TARGET_DATE_FORMAT)\n",
    "\n",
    "#desc cleaning\n",
    "channel_info['description'] = channel_info['description'].rstrip()\n",
    "\n",
    "channel_info['channelId'] = channelId\n",
    "\n",
    "# pd.DataFrame(channel_info)\n",
    "df = pd.DataFrame(channel_info, index=[0])\n",
    "df[df_columns]"
   ]
  },
  {
   "cell_type": "code",
   "execution_count": 9,
   "metadata": {},
   "outputs": [
    {
     "data": {
      "text/html": [
       "<div>\n",
       "<style scoped>\n",
       "    .dataframe tbody tr th:only-of-type {\n",
       "        vertical-align: middle;\n",
       "    }\n",
       "\n",
       "    .dataframe tbody tr th {\n",
       "        vertical-align: top;\n",
       "    }\n",
       "\n",
       "    .dataframe thead th {\n",
       "        text-align: right;\n",
       "    }\n",
       "</style>\n",
       "<table border=\"1\" class=\"dataframe\">\n",
       "  <thead>\n",
       "    <tr style=\"text-align: right;\">\n",
       "      <th></th>\n",
       "      <th>channelId</th>\n",
       "      <th>extract_date</th>\n",
       "      <th>viewCount</th>\n",
       "      <th>subscriberCount</th>\n",
       "      <th>videoCount</th>\n",
       "    </tr>\n",
       "  </thead>\n",
       "  <tbody>\n",
       "    <tr>\n",
       "      <th>0</th>\n",
       "      <td>UC8JbbaZ_jgdsoUqrZ2bXtQQ</td>\n",
       "      <td>2023-04-06</td>\n",
       "      <td>201523476</td>\n",
       "      <td>399000</td>\n",
       "      <td>2082</td>\n",
       "    </tr>\n",
       "  </tbody>\n",
       "</table>\n",
       "</div>"
      ],
      "text/plain": [
       "                  channelId extract_date  viewCount subscriberCount videoCount\n",
       "0  UC8JbbaZ_jgdsoUqrZ2bXtQQ   2023-04-06  201523476          399000       2082"
      ]
     },
     "execution_count": 9,
     "metadata": {},
     "output_type": "execute_result"
    }
   ],
   "source": [
    "\n",
    "# extract data for channels statistics table\n",
    "df_columns = ['channelId','extract_date'] + CHANNELS_INFO_STATS\n",
    "\n",
    "channel_stats = {}\n",
    "for field in CHANNELS_INFO_STATS:\n",
    "    channel_stats[field] = response['items'][0]['statistics'][field]\n",
    "\n",
    "\n",
    "channel_stats['channelId'] = channelId\n",
    "channel_stats['extract_date'] = datetime.today().strftime(TARGET_DATE_FORMAT)\n",
    "channel_stats\n",
    "df = pd.DataFrame(channel_stats, index=[0])\n",
    "df[df_columns]\n"
   ]
  },
  {
   "attachments": {},
   "cell_type": "markdown",
   "metadata": {},
   "source": [
    "Get channel videos informations"
   ]
  },
  {
   "cell_type": "code",
   "execution_count": 10,
   "metadata": {},
   "outputs": [
    {
     "data": {
      "text/plain": [
       "dict_keys(['kind', 'etag', 'id', 'snippet'])"
      ]
     },
     "execution_count": 10,
     "metadata": {},
     "output_type": "execute_result"
    }
   ],
   "source": [
    "req = youtube.search().list(\n",
    "    part=\"snippet\",\n",
    "    channelId=channelId,\n",
    "    maxResults=10,\n",
    "    order='date',\n",
    "    type='video'\n",
    ")\n",
    "\n",
    "try:\n",
    "    res = req.execute()\n",
    "except HttpError as e:\n",
    "    print('Error response status code : {0}, reason : {1}'.format(e.status_code, e.error_details))\n",
    "res['items'][0].keys()"
   ]
  }
 ],
 "metadata": {
  "kernelspec": {
   "display_name": "Python 3",
   "language": "python",
   "name": "python3"
  },
  "language_info": {
   "codemirror_mode": {
    "name": "ipython",
    "version": 3
   },
   "file_extension": ".py",
   "mimetype": "text/x-python",
   "name": "python",
   "nbconvert_exporter": "python",
   "pygments_lexer": "ipython3",
   "version": "3.10.9"
  },
  "orig_nbformat": 4
 },
 "nbformat": 4,
 "nbformat_minor": 2
}
